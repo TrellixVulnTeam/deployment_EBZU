{
 "cells": [
  {
   "cell_type": "code",
   "execution_count": 1,
   "id": "40e98e95",
   "metadata": {},
   "outputs": [],
   "source": [
    "import json\n",
    "import pandas as pd\n",
    "import numpy as np\n",
    "import seaborn as sns\n",
    "import matplotlib.pyplot as plt\n",
    "import plotly.express as px\n",
    "import datetime\n",
    "from plotly.subplots import make_subplots\n",
    "import plotly.graph_objects as go\n"
   ]
  },
  {
   "cell_type": "markdown",
   "id": "49bd6746",
   "metadata": {},
   "source": [
    "### Read Data"
   ]
  },
  {
   "cell_type": "code",
   "execution_count": 2,
   "id": "cabdd94d",
   "metadata": {
    "scrolled": true
   },
   "outputs": [
    {
     "ename": "ValueError",
     "evalue": "Expected object or value",
     "output_type": "error",
     "traceback": [
      "\u001b[0;31m---------------------------------------------------------------------------\u001b[0m",
      "\u001b[0;31mValueError\u001b[0m                                Traceback (most recent call last)",
      "\u001b[0;32m<ipython-input-2-822c7afe8ff6>\u001b[0m in \u001b[0;36m<module>\u001b[0;34m\u001b[0m\n\u001b[1;32m      1\u001b[0m \u001b[0;31m#read json file\u001b[0m\u001b[0;34m\u001b[0m\u001b[0;34m\u001b[0m\u001b[0;34m\u001b[0m\u001b[0m\n\u001b[0;32m----> 2\u001b[0;31m \u001b[0mdf_t\u001b[0m \u001b[0;34m=\u001b[0m \u001b[0mpd\u001b[0m\u001b[0;34m.\u001b[0m\u001b[0mread_json\u001b[0m\u001b[0;34m(\u001b[0m\u001b[0;34m'database.json'\u001b[0m\u001b[0;34m)\u001b[0m\u001b[0;34m\u001b[0m\u001b[0;34m\u001b[0m\u001b[0m\n\u001b[0m\u001b[1;32m      3\u001b[0m \u001b[0;34m\u001b[0m\u001b[0m\n\u001b[1;32m      4\u001b[0m \u001b[0;31m#get info about data\u001b[0m\u001b[0;34m\u001b[0m\u001b[0;34m\u001b[0m\u001b[0;34m\u001b[0m\u001b[0m\n\u001b[1;32m      5\u001b[0m \u001b[0mdf_t\u001b[0m\u001b[0;34m.\u001b[0m\u001b[0minfo\u001b[0m\u001b[0;34m\u001b[0m\u001b[0;34m\u001b[0m\u001b[0m\n",
      "\u001b[0;32m~/opt/anaconda3/lib/python3.8/site-packages/pandas/util/_decorators.py\u001b[0m in \u001b[0;36mwrapper\u001b[0;34m(*args, **kwargs)\u001b[0m\n\u001b[1;32m    197\u001b[0m                 \u001b[0;32melse\u001b[0m\u001b[0;34m:\u001b[0m\u001b[0;34m\u001b[0m\u001b[0;34m\u001b[0m\u001b[0m\n\u001b[1;32m    198\u001b[0m                     \u001b[0mkwargs\u001b[0m\u001b[0;34m[\u001b[0m\u001b[0mnew_arg_name\u001b[0m\u001b[0;34m]\u001b[0m \u001b[0;34m=\u001b[0m \u001b[0mnew_arg_value\u001b[0m\u001b[0;34m\u001b[0m\u001b[0;34m\u001b[0m\u001b[0m\n\u001b[0;32m--> 199\u001b[0;31m             \u001b[0;32mreturn\u001b[0m \u001b[0mfunc\u001b[0m\u001b[0;34m(\u001b[0m\u001b[0;34m*\u001b[0m\u001b[0margs\u001b[0m\u001b[0;34m,\u001b[0m \u001b[0;34m**\u001b[0m\u001b[0mkwargs\u001b[0m\u001b[0;34m)\u001b[0m\u001b[0;34m\u001b[0m\u001b[0;34m\u001b[0m\u001b[0m\n\u001b[0m\u001b[1;32m    200\u001b[0m \u001b[0;34m\u001b[0m\u001b[0m\n\u001b[1;32m    201\u001b[0m         \u001b[0;32mreturn\u001b[0m \u001b[0mcast\u001b[0m\u001b[0;34m(\u001b[0m\u001b[0mF\u001b[0m\u001b[0;34m,\u001b[0m \u001b[0mwrapper\u001b[0m\u001b[0;34m)\u001b[0m\u001b[0;34m\u001b[0m\u001b[0;34m\u001b[0m\u001b[0m\n",
      "\u001b[0;32m~/opt/anaconda3/lib/python3.8/site-packages/pandas/util/_decorators.py\u001b[0m in \u001b[0;36mwrapper\u001b[0;34m(*args, **kwargs)\u001b[0m\n\u001b[1;32m    297\u001b[0m                 )\n\u001b[1;32m    298\u001b[0m                 \u001b[0mwarnings\u001b[0m\u001b[0;34m.\u001b[0m\u001b[0mwarn\u001b[0m\u001b[0;34m(\u001b[0m\u001b[0mmsg\u001b[0m\u001b[0;34m,\u001b[0m \u001b[0mFutureWarning\u001b[0m\u001b[0;34m,\u001b[0m \u001b[0mstacklevel\u001b[0m\u001b[0;34m=\u001b[0m\u001b[0mstacklevel\u001b[0m\u001b[0;34m)\u001b[0m\u001b[0;34m\u001b[0m\u001b[0;34m\u001b[0m\u001b[0m\n\u001b[0;32m--> 299\u001b[0;31m             \u001b[0;32mreturn\u001b[0m \u001b[0mfunc\u001b[0m\u001b[0;34m(\u001b[0m\u001b[0;34m*\u001b[0m\u001b[0margs\u001b[0m\u001b[0;34m,\u001b[0m \u001b[0;34m**\u001b[0m\u001b[0mkwargs\u001b[0m\u001b[0;34m)\u001b[0m\u001b[0;34m\u001b[0m\u001b[0;34m\u001b[0m\u001b[0m\n\u001b[0m\u001b[1;32m    300\u001b[0m \u001b[0;34m\u001b[0m\u001b[0m\n\u001b[1;32m    301\u001b[0m         \u001b[0;32mreturn\u001b[0m \u001b[0mwrapper\u001b[0m\u001b[0;34m\u001b[0m\u001b[0;34m\u001b[0m\u001b[0m\n",
      "\u001b[0;32m~/opt/anaconda3/lib/python3.8/site-packages/pandas/io/json/_json.py\u001b[0m in \u001b[0;36mread_json\u001b[0;34m(path_or_buf, orient, typ, dtype, convert_axes, convert_dates, keep_default_dates, numpy, precise_float, date_unit, encoding, lines, chunksize, compression, nrows, storage_options)\u001b[0m\n\u001b[1;32m    561\u001b[0m \u001b[0;34m\u001b[0m\u001b[0m\n\u001b[1;32m    562\u001b[0m     \u001b[0;32mwith\u001b[0m \u001b[0mjson_reader\u001b[0m\u001b[0;34m:\u001b[0m\u001b[0;34m\u001b[0m\u001b[0;34m\u001b[0m\u001b[0m\n\u001b[0;32m--> 563\u001b[0;31m         \u001b[0;32mreturn\u001b[0m \u001b[0mjson_reader\u001b[0m\u001b[0;34m.\u001b[0m\u001b[0mread\u001b[0m\u001b[0;34m(\u001b[0m\u001b[0;34m)\u001b[0m\u001b[0;34m\u001b[0m\u001b[0;34m\u001b[0m\u001b[0m\n\u001b[0m\u001b[1;32m    564\u001b[0m \u001b[0;34m\u001b[0m\u001b[0m\n\u001b[1;32m    565\u001b[0m \u001b[0;34m\u001b[0m\u001b[0m\n",
      "\u001b[0;32m~/opt/anaconda3/lib/python3.8/site-packages/pandas/io/json/_json.py\u001b[0m in \u001b[0;36mread\u001b[0;34m(self)\u001b[0m\n\u001b[1;32m    692\u001b[0m                 \u001b[0mobj\u001b[0m \u001b[0;34m=\u001b[0m \u001b[0mself\u001b[0m\u001b[0;34m.\u001b[0m\u001b[0m_get_object_parser\u001b[0m\u001b[0;34m(\u001b[0m\u001b[0mself\u001b[0m\u001b[0;34m.\u001b[0m\u001b[0m_combine_lines\u001b[0m\u001b[0;34m(\u001b[0m\u001b[0mdata_lines\u001b[0m\u001b[0;34m)\u001b[0m\u001b[0;34m)\u001b[0m\u001b[0;34m\u001b[0m\u001b[0;34m\u001b[0m\u001b[0m\n\u001b[1;32m    693\u001b[0m         \u001b[0;32melse\u001b[0m\u001b[0;34m:\u001b[0m\u001b[0;34m\u001b[0m\u001b[0;34m\u001b[0m\u001b[0m\n\u001b[0;32m--> 694\u001b[0;31m             \u001b[0mobj\u001b[0m \u001b[0;34m=\u001b[0m \u001b[0mself\u001b[0m\u001b[0;34m.\u001b[0m\u001b[0m_get_object_parser\u001b[0m\u001b[0;34m(\u001b[0m\u001b[0mself\u001b[0m\u001b[0;34m.\u001b[0m\u001b[0mdata\u001b[0m\u001b[0;34m)\u001b[0m\u001b[0;34m\u001b[0m\u001b[0;34m\u001b[0m\u001b[0m\n\u001b[0m\u001b[1;32m    695\u001b[0m         \u001b[0mself\u001b[0m\u001b[0;34m.\u001b[0m\u001b[0mclose\u001b[0m\u001b[0;34m(\u001b[0m\u001b[0;34m)\u001b[0m\u001b[0;34m\u001b[0m\u001b[0;34m\u001b[0m\u001b[0m\n\u001b[1;32m    696\u001b[0m         \u001b[0;32mreturn\u001b[0m \u001b[0mobj\u001b[0m\u001b[0;34m\u001b[0m\u001b[0;34m\u001b[0m\u001b[0m\n",
      "\u001b[0;32m~/opt/anaconda3/lib/python3.8/site-packages/pandas/io/json/_json.py\u001b[0m in \u001b[0;36m_get_object_parser\u001b[0;34m(self, json)\u001b[0m\n\u001b[1;32m    714\u001b[0m         \u001b[0mobj\u001b[0m \u001b[0;34m=\u001b[0m \u001b[0;32mNone\u001b[0m\u001b[0;34m\u001b[0m\u001b[0;34m\u001b[0m\u001b[0m\n\u001b[1;32m    715\u001b[0m         \u001b[0;32mif\u001b[0m \u001b[0mtyp\u001b[0m \u001b[0;34m==\u001b[0m \u001b[0;34m\"frame\"\u001b[0m\u001b[0;34m:\u001b[0m\u001b[0;34m\u001b[0m\u001b[0;34m\u001b[0m\u001b[0m\n\u001b[0;32m--> 716\u001b[0;31m             \u001b[0mobj\u001b[0m \u001b[0;34m=\u001b[0m \u001b[0mFrameParser\u001b[0m\u001b[0;34m(\u001b[0m\u001b[0mjson\u001b[0m\u001b[0;34m,\u001b[0m \u001b[0;34m**\u001b[0m\u001b[0mkwargs\u001b[0m\u001b[0;34m)\u001b[0m\u001b[0;34m.\u001b[0m\u001b[0mparse\u001b[0m\u001b[0;34m(\u001b[0m\u001b[0;34m)\u001b[0m\u001b[0;34m\u001b[0m\u001b[0;34m\u001b[0m\u001b[0m\n\u001b[0m\u001b[1;32m    717\u001b[0m \u001b[0;34m\u001b[0m\u001b[0m\n\u001b[1;32m    718\u001b[0m         \u001b[0;32mif\u001b[0m \u001b[0mtyp\u001b[0m \u001b[0;34m==\u001b[0m \u001b[0;34m\"series\"\u001b[0m \u001b[0;32mor\u001b[0m \u001b[0mobj\u001b[0m \u001b[0;32mis\u001b[0m \u001b[0;32mNone\u001b[0m\u001b[0;34m:\u001b[0m\u001b[0;34m\u001b[0m\u001b[0;34m\u001b[0m\u001b[0m\n",
      "\u001b[0;32m~/opt/anaconda3/lib/python3.8/site-packages/pandas/io/json/_json.py\u001b[0m in \u001b[0;36mparse\u001b[0;34m(self)\u001b[0m\n\u001b[1;32m    829\u001b[0m \u001b[0;34m\u001b[0m\u001b[0m\n\u001b[1;32m    830\u001b[0m         \u001b[0;32melse\u001b[0m\u001b[0;34m:\u001b[0m\u001b[0;34m\u001b[0m\u001b[0;34m\u001b[0m\u001b[0m\n\u001b[0;32m--> 831\u001b[0;31m             \u001b[0mself\u001b[0m\u001b[0;34m.\u001b[0m\u001b[0m_parse_no_numpy\u001b[0m\u001b[0;34m(\u001b[0m\u001b[0;34m)\u001b[0m\u001b[0;34m\u001b[0m\u001b[0;34m\u001b[0m\u001b[0m\n\u001b[0m\u001b[1;32m    832\u001b[0m \u001b[0;34m\u001b[0m\u001b[0m\n\u001b[1;32m    833\u001b[0m         \u001b[0;32mif\u001b[0m \u001b[0mself\u001b[0m\u001b[0;34m.\u001b[0m\u001b[0mobj\u001b[0m \u001b[0;32mis\u001b[0m \u001b[0;32mNone\u001b[0m\u001b[0;34m:\u001b[0m\u001b[0;34m\u001b[0m\u001b[0;34m\u001b[0m\u001b[0m\n",
      "\u001b[0;32m~/opt/anaconda3/lib/python3.8/site-packages/pandas/io/json/_json.py\u001b[0m in \u001b[0;36m_parse_no_numpy\u001b[0;34m(self)\u001b[0m\n\u001b[1;32m   1077\u001b[0m         \u001b[0;32mif\u001b[0m \u001b[0morient\u001b[0m \u001b[0;34m==\u001b[0m \u001b[0;34m\"columns\"\u001b[0m\u001b[0;34m:\u001b[0m\u001b[0;34m\u001b[0m\u001b[0;34m\u001b[0m\u001b[0m\n\u001b[1;32m   1078\u001b[0m             self.obj = DataFrame(\n\u001b[0;32m-> 1079\u001b[0;31m                 \u001b[0mloads\u001b[0m\u001b[0;34m(\u001b[0m\u001b[0mjson\u001b[0m\u001b[0;34m,\u001b[0m \u001b[0mprecise_float\u001b[0m\u001b[0;34m=\u001b[0m\u001b[0mself\u001b[0m\u001b[0;34m.\u001b[0m\u001b[0mprecise_float\u001b[0m\u001b[0;34m)\u001b[0m\u001b[0;34m,\u001b[0m \u001b[0mdtype\u001b[0m\u001b[0;34m=\u001b[0m\u001b[0;32mNone\u001b[0m\u001b[0;34m\u001b[0m\u001b[0;34m\u001b[0m\u001b[0m\n\u001b[0m\u001b[1;32m   1080\u001b[0m             )\n\u001b[1;32m   1081\u001b[0m         \u001b[0;32melif\u001b[0m \u001b[0morient\u001b[0m \u001b[0;34m==\u001b[0m \u001b[0;34m\"split\"\u001b[0m\u001b[0;34m:\u001b[0m\u001b[0;34m\u001b[0m\u001b[0;34m\u001b[0m\u001b[0m\n",
      "\u001b[0;31mValueError\u001b[0m: Expected object or value"
     ]
    }
   ],
   "source": [
    "#read json file \n",
    "df_t = pd.read_json('database.json')\n",
    "\n",
    "#get info about data\n",
    "df_t.info"
   ]
  },
  {
   "cell_type": "code",
   "execution_count": null,
   "id": "f924153f",
   "metadata": {},
   "outputs": [],
   "source": [
    "#Transpose data columns with rows\n",
    "df = df_t.T"
   ]
  },
  {
   "cell_type": "code",
   "execution_count": null,
   "id": "46615125",
   "metadata": {
    "scrolled": true
   },
   "outputs": [],
   "source": [
    "# Checking for the missing data\n",
    "df.isnull().sum()"
   ]
  },
  {
   "cell_type": "markdown",
   "id": "8d644895",
   "metadata": {},
   "source": [
    "### Create new data frame with necessary  columns"
   ]
  },
  {
   "cell_type": "code",
   "execution_count": null,
   "id": "db8150ad",
   "metadata": {},
   "outputs": [],
   "source": [
    "# New data frame from df\n",
    "game = df[['steam_appid','name','required_age', 'is_free', 'supported_languages', 'price_overview', \n",
    "           'developers', 'publishers', 'platforms', 'categories', 'release_date',\n",
    "           'total_reviews', 'review_score', 'total_positive', 'total_negative','genres']]"
   ]
  },
  {
   "cell_type": "code",
   "execution_count": null,
   "id": "4b5c9abe",
   "metadata": {},
   "outputs": [],
   "source": [
    "# Set a new index \n",
    "game.set_index('steam_appid', inplace = True)\n",
    "game.head()"
   ]
  },
  {
   "cell_type": "code",
   "execution_count": null,
   "id": "175222d4",
   "metadata": {},
   "outputs": [],
   "source": [
    "#check missing values with heat map\n",
    "\n",
    "cols = game.columns[:] # all columns\n",
    "colours = ['#000099', '#ffff00'] # specify the colours - yellow is missing. blue is not missing.\n",
    "sns.heatmap(game[cols].isnull(), cmap=sns.color_palette(colours))"
   ]
  },
  {
   "cell_type": "code",
   "execution_count": null,
   "id": "eca16a1c",
   "metadata": {
    "scrolled": false
   },
   "outputs": [],
   "source": [
    "# check null values sum\n",
    "game.isnull().sum()"
   ]
  },
  {
   "cell_type": "code",
   "execution_count": null,
   "id": "6274b57c",
   "metadata": {},
   "outputs": [],
   "source": [
    "# drop null values from 'developers'\n",
    "game = game.dropna(subset = ['developers'])\n"
   ]
  },
  {
   "cell_type": "code",
   "execution_count": null,
   "id": "6502440b",
   "metadata": {},
   "outputs": [],
   "source": [
    "# drop null values from 'genres'\n",
    "\n",
    "game = game.dropna(subset = ['genres'])\n"
   ]
  },
  {
   "cell_type": "code",
   "execution_count": null,
   "id": "4ee5ed1f",
   "metadata": {},
   "outputs": [],
   "source": [
    "# drop null values from 'categories'\n",
    "game = game.dropna(subset = ['categories'])\n"
   ]
  },
  {
   "cell_type": "code",
   "execution_count": null,
   "id": "1a23cc32",
   "metadata": {},
   "outputs": [],
   "source": [
    "# check the number of free products\n",
    "game.is_free.value_counts()"
   ]
  },
  {
   "cell_type": "code",
   "execution_count": null,
   "id": "e6d3729d",
   "metadata": {
    "scrolled": true
   },
   "outputs": [],
   "source": [
    "# to check for dublicated values\n",
    "game.describe()"
   ]
  },
  {
   "cell_type": "code",
   "execution_count": null,
   "id": "1bacd6ee",
   "metadata": {},
   "outputs": [],
   "source": [
    "#names are dublicated so lets drop the dublicate values\n",
    "game.drop_duplicates(subset='name', inplace=True)"
   ]
  },
  {
   "cell_type": "code",
   "execution_count": null,
   "id": "518d2637",
   "metadata": {
    "scrolled": false
   },
   "outputs": [],
   "source": [
    "#check if is it works ?\n",
    "game.describe()"
   ]
  },
  {
   "cell_type": "code",
   "execution_count": null,
   "id": "80a3d0e3",
   "metadata": {},
   "outputs": [],
   "source": [
    "# shape of game df\n",
    "game.shape"
   ]
  },
  {
   "cell_type": "code",
   "execution_count": null,
   "id": "e16f6a21",
   "metadata": {
    "scrolled": true
   },
   "outputs": [],
   "source": [
    "game.iloc[1]"
   ]
  },
  {
   "cell_type": "markdown",
   "id": "4ce28c28",
   "metadata": {},
   "source": [
    "### Over Price"
   ]
  },
  {
   "cell_type": "code",
   "execution_count": null,
   "id": "585cd01a",
   "metadata": {},
   "outputs": [],
   "source": [
    "# extract \n",
    "price = game.price_overview\n",
    "price_dic = price.to_dict()\n",
    "price_dic"
   ]
  },
  {
   "cell_type": "code",
   "execution_count": null,
   "id": "c757f9db",
   "metadata": {
    "scrolled": false
   },
   "outputs": [],
   "source": [
    "dp = pd.DataFrame(price_dic)\n",
    "dp.head()"
   ]
  },
  {
   "cell_type": "code",
   "execution_count": null,
   "id": "9f84c445",
   "metadata": {},
   "outputs": [],
   "source": [
    "dp = dp.T\n",
    "dp.head()"
   ]
  },
  {
   "cell_type": "code",
   "execution_count": null,
   "id": "923c4196",
   "metadata": {},
   "outputs": [],
   "source": [
    "currency = dp['currency']\n",
    "discount_percent = dp['discount_percent']\n",
    "initial_price = dp['initial_formatted']\n",
    "final_price = dp['final_formatted']\n",
    "\n"
   ]
  },
  {
   "cell_type": "code",
   "execution_count": null,
   "id": "173f9b6c",
   "metadata": {},
   "outputs": [],
   "source": [
    "game = game.join(currency)\n",
    "game = game.join(discount_percent)\n",
    "game = game.join(initial_price)\n",
    "game = game.join(final_price)"
   ]
  },
  {
   "cell_type": "code",
   "execution_count": null,
   "id": "11102f5d",
   "metadata": {},
   "outputs": [],
   "source": [
    "currency = game['currency'].value_counts(normalize=True).mul(100).round(1).astype(str) + '%'\n",
    "currency"
   ]
  },
  {
   "cell_type": "code",
   "execution_count": null,
   "id": "9b073287",
   "metadata": {
    "scrolled": true
   },
   "outputs": [],
   "source": [
    "game.currency.unique()"
   ]
  },
  {
   "cell_type": "code",
   "execution_count": null,
   "id": "b92333b7",
   "metadata": {},
   "outputs": [],
   "source": [
    "game[game.currency == 'USD']\n",
    "\n",
    "\n",
    "game['final_formatted']= game['final_formatted'].str.replace(',', '.')\n",
    "game['final_formatted']= game['final_formatted'].str.replace('--', '00')\n",
    "\n",
    "game['final_formatted']= game['final_formatted'].str.replace('€', '')\n",
    "game['final_formatted']= game['final_formatted'].str.replace('$', '')\n",
    "game['final_formatted']= game['final_formatted'].str.replace('CDN', '')\n",
    "game['final_formatted']= game['final_formatted'].str.replace('CHF', '')\n",
    "game['final_formatted']= game['final_formatted'].str.replace('£', '') \n",
    "game['final_formatted']= game['final_formatted'].str.replace('₩', '')\n",
    "game['final_formatted']= game['final_formatted'].str.replace('RM', '')\n",
    "game['final_formatted']= game['final_formatted'].str.replace('USD', '')"
   ]
  },
  {
   "cell_type": "code",
   "execution_count": null,
   "id": "28d4e8c5",
   "metadata": {},
   "outputs": [],
   "source": [
    "game['final_formatted']=game['final_formatted'].astype(float)"
   ]
  },
  {
   "cell_type": "code",
   "execution_count": null,
   "id": "8629b787",
   "metadata": {},
   "outputs": [],
   "source": [
    "max_price = game.final_formatted.max()\n",
    "order_id = game.final_formatted.idxmax()\n",
    "max_price\n",
    "game.loc[order_id]"
   ]
  },
  {
   "cell_type": "code",
   "execution_count": null,
   "id": "03ca83f4",
   "metadata": {},
   "outputs": [],
   "source": [
    "game = game.drop('price_overview', axis = 1)\n"
   ]
  },
  {
   "cell_type": "markdown",
   "id": "ea0f7623",
   "metadata": {},
   "source": [
    "### Most Used Currency"
   ]
  },
  {
   "cell_type": "code",
   "execution_count": null,
   "id": "3110a938",
   "metadata": {
    "scrolled": false
   },
   "outputs": [],
   "source": [
    "df = px.data.tips()\n",
    "fig = px.histogram(game, x=\"currency\")\n",
    "fig.show()"
   ]
  },
  {
   "cell_type": "markdown",
   "id": "6fba59bd",
   "metadata": {},
   "source": [
    "### Ratio of age distribution"
   ]
  },
  {
   "cell_type": "code",
   "execution_count": null,
   "id": "be8fc4e3",
   "metadata": {
    "scrolled": true
   },
   "outputs": [],
   "source": [
    "age = game['required_age'].value_counts(normalize=True).mul(100).round(1).astype(str) + '%'\n",
    "age"
   ]
  },
  {
   "cell_type": "markdown",
   "id": "5ca95b8f",
   "metadata": {},
   "source": [
    "### Histogram of Age"
   ]
  },
  {
   "cell_type": "code",
   "execution_count": null,
   "id": "fe5f8616",
   "metadata": {
    "scrolled": false
   },
   "outputs": [],
   "source": [
    "df = px.data.tips()\n",
    "fig = px.histogram(game, x=\"required_age\")\n",
    "fig.show()"
   ]
  },
  {
   "cell_type": "markdown",
   "id": "a7c813c3",
   "metadata": {},
   "source": [
    "### Is the game free ?"
   ]
  },
  {
   "cell_type": "code",
   "execution_count": null,
   "id": "7e0d4f05",
   "metadata": {},
   "outputs": [],
   "source": [
    "free = game['is_free'].value_counts(normalize=True).mul(100).round(1).astype(str) + '%'\n",
    "free"
   ]
  },
  {
   "cell_type": "markdown",
   "id": "4c3357ce",
   "metadata": {},
   "source": [
    "### Histogram of Fee"
   ]
  },
  {
   "cell_type": "code",
   "execution_count": null,
   "id": "60ab44e3",
   "metadata": {
    "scrolled": false
   },
   "outputs": [],
   "source": [
    "df = px.data.tips()\n",
    "fig = px.histogram(game, x=\"is_free\")\n",
    "fig.show()"
   ]
  },
  {
   "cell_type": "markdown",
   "id": "181a2619",
   "metadata": {},
   "source": [
    "### Over platforms "
   ]
  },
  {
   "cell_type": "code",
   "execution_count": null,
   "id": "e0590acc",
   "metadata": {},
   "outputs": [],
   "source": [
    "\n",
    "platforms = game.platforms\n",
    "platforms = platforms.to_dict()\n",
    "platforms"
   ]
  },
  {
   "cell_type": "code",
   "execution_count": null,
   "id": "0f11e356",
   "metadata": {},
   "outputs": [],
   "source": [
    "platform = pd.DataFrame(platforms)\n",
    "platform= platform.T\n",
    "platform.head()"
   ]
  },
  {
   "cell_type": "code",
   "execution_count": null,
   "id": "f0ac59ce",
   "metadata": {},
   "outputs": [],
   "source": [
    "windows = platform['windows']\n",
    "mac = platform['mac']\n",
    "linux = platform['linux']"
   ]
  },
  {
   "cell_type": "code",
   "execution_count": null,
   "id": "90b7d7b3",
   "metadata": {
    "scrolled": true
   },
   "outputs": [],
   "source": [
    "game = game.join(windows)\n",
    "game = game.join(mac)\n",
    "game = game.join(linux)\n"
   ]
  },
  {
   "cell_type": "code",
   "execution_count": null,
   "id": "69a71f2d",
   "metadata": {},
   "outputs": [],
   "source": [
    "game = game.drop('platforms', axis = 1)\n"
   ]
  },
  {
   "cell_type": "markdown",
   "id": "a6d8370e",
   "metadata": {},
   "source": [
    "### Over Genres"
   ]
  },
  {
   "cell_type": "code",
   "execution_count": null,
   "id": "e9f0ce6d",
   "metadata": {},
   "outputs": [],
   "source": [
    "game_type = []"
   ]
  },
  {
   "cell_type": "code",
   "execution_count": null,
   "id": "ec16d5a0",
   "metadata": {},
   "outputs": [],
   "source": [
    "y = game['genres'].values[1]\n",
    "y[1]['description']"
   ]
  },
  {
   "cell_type": "code",
   "execution_count": null,
   "id": "93717391",
   "metadata": {},
   "outputs": [],
   "source": [
    "for i in range(len(game['genres'].values)):\n",
    "    genres = \"\"\n",
    "    x = game['genres'].values[i]\n",
    "    \n",
    "    for y in range(len(x)):  \n",
    "        \n",
    "        genres += x[y]['description'] \n",
    "        \n",
    "        if  len(x) > 1:\n",
    "            genres += ','\n",
    "        if len(x) > 1 and y == len(x)-1:\n",
    "            genres = genres[:-1]\n",
    "        \n",
    "    game_type.append(genres)\n",
    "\n",
    "game_type"
   ]
  },
  {
   "cell_type": "code",
   "execution_count": null,
   "id": "bd05f8da",
   "metadata": {},
   "outputs": [],
   "source": [
    "game['genre'] = game_type\n"
   ]
  },
  {
   "cell_type": "code",
   "execution_count": null,
   "id": "ee774edd",
   "metadata": {},
   "outputs": [],
   "source": [
    "game = game.drop('genres', axis = 1)\n"
   ]
  },
  {
   "cell_type": "code",
   "execution_count": null,
   "id": "5e703e41",
   "metadata": {
    "scrolled": false
   },
   "outputs": [],
   "source": [
    "game = game.drop('supported_languages', axis = 1)\n"
   ]
  },
  {
   "cell_type": "markdown",
   "id": "3b2efdd2",
   "metadata": {},
   "source": [
    "### Over Publishers"
   ]
  },
  {
   "cell_type": "code",
   "execution_count": null,
   "id": "7aa4e15b",
   "metadata": {
    "scrolled": true
   },
   "outputs": [],
   "source": [
    "game['publishers']"
   ]
  },
  {
   "cell_type": "code",
   "execution_count": null,
   "id": "bf892c9b",
   "metadata": {},
   "outputs": [],
   "source": [
    "game['publishers'] =game.publishers.apply(lambda x: ', '.join([str(i) for i in x]))\n"
   ]
  },
  {
   "cell_type": "code",
   "execution_count": null,
   "id": "3050a241",
   "metadata": {
    "scrolled": true
   },
   "outputs": [],
   "source": [
    "game['publishers']"
   ]
  },
  {
   "cell_type": "markdown",
   "id": "b8baadd0",
   "metadata": {},
   "source": [
    "### Over Developers"
   ]
  },
  {
   "cell_type": "code",
   "execution_count": null,
   "id": "06713df7",
   "metadata": {
    "scrolled": false
   },
   "outputs": [],
   "source": [
    "game['developers'] =game.developers.apply(lambda x: ', '.join([str(i) for i in x]))\n"
   ]
  },
  {
   "cell_type": "markdown",
   "id": "baa0bd05",
   "metadata": {},
   "source": [
    "### Over Category "
   ]
  },
  {
   "cell_type": "code",
   "execution_count": null,
   "id": "df01cee1",
   "metadata": {},
   "outputs": [],
   "source": [
    "catagory = game.categories\n",
    "catagory = catagory.to_dict()\n",
    "catagory"
   ]
  },
  {
   "cell_type": "code",
   "execution_count": null,
   "id": "ddd23d4a",
   "metadata": {},
   "outputs": [],
   "source": [
    "category = []"
   ]
  },
  {
   "cell_type": "code",
   "execution_count": null,
   "id": "92b682ce",
   "metadata": {},
   "outputs": [],
   "source": [
    "for i in range(len(game['categories'].values)):\n",
    "    categories = \"\"\n",
    "    x = game['categories'].values[i]\n",
    "    \n",
    "    for y in range(len(x)):  \n",
    "        \n",
    "        categories += x[y]['description'] \n",
    "        \n",
    "        if  len(x) > 1:\n",
    "            categories += ','\n",
    "        if len(x) > 1 and y == len(x)-1:\n",
    "            categories = categories[:-1]\n",
    "        \n",
    "    category.append(categories)\n",
    "\n",
    "category"
   ]
  },
  {
   "cell_type": "code",
   "execution_count": null,
   "id": "099baf2c",
   "metadata": {
    "scrolled": true
   },
   "outputs": [],
   "source": [
    "game['categories'] = category"
   ]
  },
  {
   "cell_type": "code",
   "execution_count": null,
   "id": "160788e3",
   "metadata": {},
   "outputs": [],
   "source": [
    "game['categories']"
   ]
  },
  {
   "cell_type": "code",
   "execution_count": null,
   "id": "866b7aec",
   "metadata": {},
   "outputs": [],
   "source": [
    "game"
   ]
  },
  {
   "cell_type": "markdown",
   "id": "0aad94eb",
   "metadata": {},
   "source": [
    "### Over Release Date"
   ]
  },
  {
   "cell_type": "code",
   "execution_count": null,
   "id": "c4f29871",
   "metadata": {},
   "outputs": [],
   "source": [
    "date = []"
   ]
  },
  {
   "cell_type": "code",
   "execution_count": null,
   "id": "dae30e6a",
   "metadata": {},
   "outputs": [],
   "source": [
    "for i in range(len(game.release_date.values)):\n",
    "    date.append(game.release_date.values[i]['date'])\n",
    "date"
   ]
  },
  {
   "cell_type": "code",
   "execution_count": null,
   "id": "4e093be7",
   "metadata": {},
   "outputs": [],
   "source": [
    "game['date'] = date"
   ]
  },
  {
   "cell_type": "code",
   "execution_count": null,
   "id": "f1fe57a4",
   "metadata": {},
   "outputs": [],
   "source": [
    "game.date\n"
   ]
  },
  {
   "cell_type": "code",
   "execution_count": null,
   "id": "4840888a",
   "metadata": {},
   "outputs": [],
   "source": [
    "game['date'] = game['date'].str.replace(',', '')\n"
   ]
  },
  {
   "cell_type": "code",
   "execution_count": null,
   "id": "35481f2b",
   "metadata": {},
   "outputs": [],
   "source": [
    "format1 = \"%d %b %Y\"\n"
   ]
  },
  {
   "cell_type": "code",
   "execution_count": null,
   "id": "c224efb0",
   "metadata": {
    "scrolled": true
   },
   "outputs": [],
   "source": [
    "game['date'] = pd.to_datetime(game['date'], format=format1, errors='coerce')\n",
    "mask = game.date.isnull()\n",
    "mask"
   ]
  },
  {
   "cell_type": "code",
   "execution_count": null,
   "id": "2d47815b",
   "metadata": {},
   "outputs": [],
   "source": [
    "loc = game[mask].index\n",
    "loc"
   ]
  },
  {
   "cell_type": "code",
   "execution_count": null,
   "id": "eaf17385",
   "metadata": {},
   "outputs": [],
   "source": [
    "#drop not formated date columns\n",
    "\n",
    "game.drop(loc, inplace = True )"
   ]
  },
  {
   "cell_type": "code",
   "execution_count": null,
   "id": "f1195b96",
   "metadata": {},
   "outputs": [],
   "source": [
    "len(game.date)"
   ]
  },
  {
   "cell_type": "code",
   "execution_count": null,
   "id": "1678cf19",
   "metadata": {},
   "outputs": [],
   "source": [
    "game.date.isnull().sum()"
   ]
  },
  {
   "cell_type": "code",
   "execution_count": null,
   "id": "b5fde72c",
   "metadata": {},
   "outputs": [],
   "source": [
    "game['year'] = pd.DatetimeIndex(game['date']).year\n",
    "game['month'] = pd.DatetimeIndex(game['date']).month\n"
   ]
  },
  {
   "cell_type": "code",
   "execution_count": null,
   "id": "d6ff43d7",
   "metadata": {},
   "outputs": [],
   "source": [
    "game['currency'].fillna(\"FREE\", inplace = True) \n"
   ]
  },
  {
   "cell_type": "code",
   "execution_count": null,
   "id": "83bff5ec",
   "metadata": {},
   "outputs": [],
   "source": [
    "game.isnull().sum()"
   ]
  },
  {
   "cell_type": "code",
   "execution_count": null,
   "id": "0b4ba3b8",
   "metadata": {
    "scrolled": true
   },
   "outputs": [],
   "source": [
    "null_currency = game[(game['is_free']== False) & (game['currency'] == 'FREE')].index\n",
    "null_currency"
   ]
  },
  {
   "cell_type": "code",
   "execution_count": null,
   "id": "87ca41ce",
   "metadata": {},
   "outputs": [],
   "source": [
    "#drop not null_currency\n",
    "\n",
    "game.drop(null_currency, inplace = True )"
   ]
  },
  {
   "cell_type": "code",
   "execution_count": null,
   "id": "a34ad9f8",
   "metadata": {},
   "outputs": [],
   "source": [
    "game['final_formatted'].fillna(0, inplace = True) \n",
    "game['discount_percent'].fillna(0, inplace = True) \n",
    "game['initial_formatted'].fillna(0, inplace = True) "
   ]
  },
  {
   "cell_type": "code",
   "execution_count": null,
   "id": "6441382a",
   "metadata": {},
   "outputs": [],
   "source": [
    "game = game.drop('release_date', axis = 1)\n"
   ]
  },
  {
   "cell_type": "code",
   "execution_count": null,
   "id": "e142ea5e",
   "metadata": {},
   "outputs": [],
   "source": [
    "list_ones = []\n",
    "\n",
    "for i in range(len(game)):\n",
    "    list_ones.append(1)\n",
    "\n"
   ]
  },
  {
   "cell_type": "code",
   "execution_count": null,
   "id": "6a13d806",
   "metadata": {},
   "outputs": [],
   "source": [
    "game['ones'] = list_ones"
   ]
  },
  {
   "cell_type": "code",
   "execution_count": null,
   "id": "1270aca2",
   "metadata": {},
   "outputs": [],
   "source": [
    "categories = [pd.Series(row['ones'],row['categories'].split(\",\"))              \n",
    "                    for _, row in game.iterrows()]"
   ]
  },
  {
   "cell_type": "code",
   "execution_count": null,
   "id": "515db848",
   "metadata": {},
   "outputs": [],
   "source": [
    "categories"
   ]
  },
  {
   "cell_type": "code",
   "execution_count": null,
   "id": "f24fe2e9",
   "metadata": {},
   "outputs": [],
   "source": [
    "cat = pd.DataFrame(categories)"
   ]
  },
  {
   "cell_type": "code",
   "execution_count": null,
   "id": "87eb5d40",
   "metadata": {
    "scrolled": true
   },
   "outputs": [],
   "source": [
    "cat.isnull().sum()"
   ]
  },
  {
   "cell_type": "code",
   "execution_count": null,
   "id": "f627dece",
   "metadata": {},
   "outputs": [],
   "source": [
    "category = cat[['Single-player','Multi-player','PvP' ]]"
   ]
  },
  {
   "cell_type": "code",
   "execution_count": null,
   "id": "962fa89e",
   "metadata": {},
   "outputs": [],
   "source": [
    "game['appid'] = game.index"
   ]
  },
  {
   "cell_type": "code",
   "execution_count": null,
   "id": "288a6f55",
   "metadata": {
    "scrolled": false
   },
   "outputs": [],
   "source": [
    "category['appid'] = game['appid'].tolist()"
   ]
  },
  {
   "cell_type": "code",
   "execution_count": null,
   "id": "2320c9e4",
   "metadata": {
    "scrolled": true
   },
   "outputs": [],
   "source": [
    "category.fillna(0, inplace = True)"
   ]
  },
  {
   "cell_type": "code",
   "execution_count": null,
   "id": "b52822d9",
   "metadata": {
    "scrolled": true
   },
   "outputs": [],
   "source": [
    "category = category.astype(int)"
   ]
  },
  {
   "cell_type": "code",
   "execution_count": null,
   "id": "60ae9964",
   "metadata": {},
   "outputs": [],
   "source": [
    "category"
   ]
  },
  {
   "cell_type": "code",
   "execution_count": null,
   "id": "89cec0b0",
   "metadata": {},
   "outputs": [],
   "source": [
    "game = pd.merge(game, category, on=['appid'])"
   ]
  },
  {
   "cell_type": "code",
   "execution_count": null,
   "id": "f4dbec96",
   "metadata": {},
   "outputs": [],
   "source": [
    "del game['categories']"
   ]
  },
  {
   "cell_type": "code",
   "execution_count": null,
   "id": "942e781b",
   "metadata": {
    "scrolled": true
   },
   "outputs": [],
   "source": [
    "game"
   ]
  },
  {
   "cell_type": "markdown",
   "id": "da39ebe6",
   "metadata": {},
   "source": [
    "### Most Seen Genres"
   ]
  },
  {
   "cell_type": "code",
   "execution_count": null,
   "id": "9e0c5bee",
   "metadata": {},
   "outputs": [],
   "source": [
    "# Most seen genres\n",
    "genres = game.genre.value_counts()\n",
    "genres"
   ]
  },
  {
   "cell_type": "code",
   "execution_count": null,
   "id": "4725d03e",
   "metadata": {},
   "outputs": [],
   "source": [
    "# Take more than 90 seen genres\n",
    "most_seen_genres = genres[genres.values > 90]\n",
    "most_seen_genres.keys()\n",
    "\n"
   ]
  },
  {
   "cell_type": "code",
   "execution_count": null,
   "id": "3a5a96e8",
   "metadata": {},
   "outputs": [],
   "source": [
    "# draw a pie chart\n",
    "fig = px.pie(game, values=most_seen_genres, names= most_seen_genres.keys(), title='Most Seen Genres')\n",
    "fig.show()\n"
   ]
  },
  {
   "cell_type": "code",
   "execution_count": null,
   "id": "805fe811",
   "metadata": {},
   "outputs": [],
   "source": [
    "game.columns"
   ]
  },
  {
   "cell_type": "markdown",
   "id": "caa93e20",
   "metadata": {},
   "source": [
    "### Most Seen Developers"
   ]
  },
  {
   "cell_type": "code",
   "execution_count": null,
   "id": "fa93b019",
   "metadata": {
    "scrolled": true
   },
   "outputs": [],
   "source": [
    "most_seen_developers = game.developers.value_counts().head(10)"
   ]
  },
  {
   "cell_type": "code",
   "execution_count": null,
   "id": "efcc3499",
   "metadata": {
    "scrolled": false
   },
   "outputs": [],
   "source": [
    "fig = px.pie(game, values=most_seen_developers, names= most_seen_developers.keys(), title='Most Seen developers')\n",
    "fig.show()\n"
   ]
  },
  {
   "cell_type": "markdown",
   "id": "7652fe32",
   "metadata": {},
   "source": [
    "### Games released over the years"
   ]
  },
  {
   "cell_type": "code",
   "execution_count": null,
   "id": "fedfd9aa",
   "metadata": {
    "scrolled": true
   },
   "outputs": [],
   "source": [
    "fig, ax = plt.subplots(figsize=(20,10))\n",
    "year_dist = game.groupby('year').count()['appid']\n",
    "\n",
    "year_dist.plot(kind= 'bar')\n",
    "plt.title('Released Game numbers by Years')\n",
    "plt.xlabel('year')\n",
    "plt.ylabel('number')\n",
    "plt.show()\n"
   ]
  },
  {
   "cell_type": "markdown",
   "id": "693afc64",
   "metadata": {},
   "source": [
    "### Games released over the months"
   ]
  },
  {
   "cell_type": "code",
   "execution_count": null,
   "id": "fc5d5098",
   "metadata": {},
   "outputs": [],
   "source": [
    "fig, ax = plt.subplots(figsize=(25,10))\n",
    "month = game.groupby('month').count()['appid']\n",
    "\n",
    "month.plot(kind= 'bar')\n",
    "plt.title('Released Game numbers by Month')\n",
    "plt.xlabel('Month')\n",
    "plt.ylabel('number')\n",
    "plt.show()"
   ]
  },
  {
   "cell_type": "markdown",
   "id": "99b670a7",
   "metadata": {},
   "source": [
    "### Games released on Linux"
   ]
  },
  {
   "cell_type": "code",
   "execution_count": null,
   "id": "50ce851f",
   "metadata": {},
   "outputs": [],
   "source": [
    "linux = game.linux.value_counts(normalize=True).mul(100).round(1).astype(str) + '%'\n",
    "linux"
   ]
  },
  {
   "cell_type": "markdown",
   "id": "6f5e1098",
   "metadata": {},
   "source": [
    "### Most used OS systems"
   ]
  },
  {
   "cell_type": "code",
   "execution_count": null,
   "id": "8c929319",
   "metadata": {},
   "outputs": [],
   "source": [
    "\n",
    "fig = make_subplots(rows=1, cols=3, subplot_titles=('linux', 'mac', 'windows'))\n",
    "length = len(game)\n",
    "\n",
    "cnames = ['linux', 'mac', 'windows']\n",
    "for k, name in enumerate(cnames):\n",
    "    columns = game[name].sum()\n",
    "    fig.add_trace(go.Bar(x=['True', 'False'], y=[columns, length-columns], name=name ), 1,k+1)\n",
    "fig.update_layout(barmode='relative',  bargap=0.05, width=700, height=400)"
   ]
  },
  {
   "cell_type": "code",
   "execution_count": null,
   "id": "65068be3",
   "metadata": {},
   "outputs": [],
   "source": [
    "game.to_csv('new_data', index=False)\n"
   ]
  },
  {
   "cell_type": "code",
   "execution_count": null,
   "id": "da05555c",
   "metadata": {},
   "outputs": [],
   "source": [
    "'''Game\n",
    "-\n",
    "Steam_appid int PK\n",
    "Name string\n",
    "Required_age  int\n",
    "Is_free  Bool\n",
    "Release_date date\n",
    "\n",
    "\n",
    "Language\n",
    "-\n",
    "Language_id int PK\n",
    "Steam_appid int FK >- Game.Steam_appid\n",
    "Supported_languages string\n",
    "\n",
    "Price\n",
    "-\n",
    "Price_id int PK\n",
    "Steam_appid int FK >- Game.Steam_appid\n",
    "Currency string\n",
    "Initial money\n",
    "Final money\n",
    "\n",
    "Legality\n",
    "-\n",
    "Legality_id int PK\n",
    "Steam_appid int FK >- Game.Steam_appid\n",
    "Legal_notice string\n",
    "Devolopers string\n",
    "Publishers string\n",
    "\n",
    "Platforms\n",
    "-\n",
    "Platforms_id int PK\n",
    "Legality_id int FK >- Legality.Legality_id\n",
    "Mac Bool\n",
    "Linux Bool\n",
    "Windosw Bool\n",
    "\n",
    "Categories\n",
    "-\n",
    "Catagories_id int PK\n",
    "Steam_appid int FK >- Game.Steam_appid\n",
    "Single_player Bool\n",
    "Multiple_player Bool\n",
    "\n",
    "Reviews\n",
    "-\n",
    "Reviews_id int PK\n",
    "Steam_appid int FK >- Game.Steam_appid\n",
    "Num_reviews int\n",
    "Review_score int\n",
    "Total_positive int\n",
    "Total_negative int\n",
    "\n",
    "\n",
    "'''"
   ]
  }
 ],
 "metadata": {
  "kernelspec": {
   "display_name": "Python 3",
   "language": "python",
   "name": "python3"
  },
  "language_info": {
   "codemirror_mode": {
    "name": "ipython",
    "version": 3
   },
   "file_extension": ".py",
   "mimetype": "text/x-python",
   "name": "python",
   "nbconvert_exporter": "python",
   "pygments_lexer": "ipython3",
   "version": "3.8.8"
  }
 },
 "nbformat": 4,
 "nbformat_minor": 5
}
